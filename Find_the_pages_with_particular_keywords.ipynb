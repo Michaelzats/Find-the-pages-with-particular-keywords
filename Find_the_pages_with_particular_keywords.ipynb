{
  "nbformat": 4,
  "nbformat_minor": 0,
  "metadata": {
    "colab": {
      "provenance": [],
      "authorship_tag": "ABX9TyMwOZBGF6lSp9R1cX+lIFpN",
      "include_colab_link": true
    },
    "kernelspec": {
      "name": "python3",
      "display_name": "Python 3"
    },
    "language_info": {
      "name": "python"
    }
  },
  "cells": [
    {
      "cell_type": "markdown",
      "metadata": {
        "id": "view-in-github",
        "colab_type": "text"
      },
      "source": [
        "<a href=\"https://colab.research.google.com/github/Michaelzats/Find-the-pages-with-particular-keywords/blob/main/Find_the_pages_with_particular_keywords.ipynb\" target=\"_parent\"><img src=\"https://colab.research.google.com/assets/colab-badge.svg\" alt=\"Open In Colab\"/></a>"
      ]
    },
    {
      "cell_type": "code",
      "execution_count": null,
      "metadata": {
        "id": "7Qy7zHD-bFHv"
      },
      "outputs": [],
      "source": [
        "import requests\n",
        "from bs4 import BeautifulSoup\n",
        "\n",
        "# Set the URL of the website\n",
        "url = 'https://liz.solutions/'\n",
        "\n",
        "# Set the keyword to search for\n",
        "keyword = 'parkplazt buchen'\n",
        "\n",
        "# Send a GET request to the URL\n",
        "response = requests.get(url)\n",
        "\n",
        "# Parse the HTML content of the page\n",
        "soup = BeautifulSoup(response.text, 'html.parser')\n",
        "\n",
        "# Find all the links on the page\n",
        "links = soup.find_all('a')\n",
        "\n",
        "# Loop through the links\n",
        "for link in links:\n",
        "  # Get the URL of the link\n",
        "  link_url = link.get('href')\n",
        "\n",
        "  # Check if the link is a valid URL\n",
        "  if link_url and link_url.startswith(url):\n",
        "    # Send a GET request to the URL\n",
        "    response = requests.get(link_url)\n",
        "\n",
        "    # Check if the keyword is present in the page\n",
        "    if keyword in response.text:\n",
        "      # Print the URL of the page\n",
        "      print(link_url)\n"
      ]
    }
  ]
}